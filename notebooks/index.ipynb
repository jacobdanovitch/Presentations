{
 "cells": [
  {
   "cell_type": "markdown",
   "metadata": {},
   "source": [
    "# Presentations and Talks"
   ]
  },
  {
   "cell_type": "markdown",
   "metadata": {},
   "source": [
    "Here's a list of the presentations and talks I've given. Note that this site is still a work in progress.\n",
    "\n",
    "A full list (with descriptions) can also be viewed at [jacobdanovitch.me/presentations](http://jacobdanovitch.me/presentations)."
   ]
  },
  {
   "cell_type": "markdown",
   "metadata": {},
   "source": [
    "* [Word Embeddings for Information Retrieval](ir_wordembedding.pdf)\n",
    "* [Introduction to Data Science and Artificial Intelligence](intro_ds_ai.html)\n",
    "* [PBPRDF - Linked Data for Basketball Analytics](pbprdf.html)\n",
    "* STEM Fellowship Big Data Challenge\n",
    "    * [K-Means Clustering](k_means.html)\n",
    "    * [Linear Regression](regression.html)\n",
    "    * [Gradient Descent (Incomplete)](gradient_descent.html)"
   ]
  }
 ],
 "metadata": {
  "kernelspec": {
   "display_name": "Python 3",
   "language": "python",
   "name": "python3"
  },
  "language_info": {
   "codemirror_mode": {
    "name": "ipython",
    "version": 3
   },
   "file_extension": ".py",
   "mimetype": "text/x-python",
   "name": "python",
   "nbconvert_exporter": "python",
   "pygments_lexer": "ipython3",
   "version": "3.6.8"
  }
 },
 "nbformat": 4,
 "nbformat_minor": 2
}

{
 "cells": [
  {
   "cell_type": "markdown",
   "metadata": {
    "slideshow": {
     "slide_type": "slide"
    }
   },
   "source": [
    "<header style='text-align: center;'>\n",
    "    <h1>PBPRDF - Linked Data for Basketball Analytics</h1>\n",
    "    <h3>Jacob Danovitch<h3/>\n",
    "</header>"
   ]
  },
  {
   "cell_type": "markdown",
   "metadata": {
    "slideshow": {
     "slide_type": "slide"
    }
   },
   "source": [
    "## What is PBPRDF?\n",
    "\n",
    "> _Generate[s] RDF for NBA or WNBA basketball play-by-play data by reading a folder full of ESPN-style play-by-play HTML pages [...] and generating a Turtle file that contains all of the plays from each game._"
   ]
  },
  {
   "cell_type": "markdown",
   "metadata": {
    "slideshow": {
     "slide_type": "subslide"
    }
   },
   "source": [
    "From this ...\n",
    "<img src='imgs/espn.png' alt='https://i.imgur.com/67DoMg2.png' />"
   ]
  },
  {
   "cell_type": "markdown",
   "metadata": {
    "slideshow": {
     "slide_type": "subslide"
    }
   },
   "source": [
    "To this...\n",
    "\n",
    "\n",
    "**NBA game: Bucks (108) at Celtics (100) on 2017-10-18 - 475 events <br/>\n",
    "TD Garden\t2017-10-18T19:30:00.000-04:00**\n",
    "\n",
    "| Team    |Pd.| Time  | Scr | Event                                                     |\n",
    "|---------|---|-------|-----|-----------------------------------------------------------|\n",
    "| Celtics | 1 | 12:00 | 0-0 | Thon Maker vs. Al Horford (Marcus Smart gains possession) |\n",
    "| Celtics | 1 | 11:38 | 0-0 | Marcus Smart misses 23-foot three point jumper            |\n",
    "| Bucks   | 1 | 11:33 | 0-0 | Giannis Antetokounmpo defensive rebound                   |\n",
    "| Celtics | 1 | 11:33 | 0-0 | Jaylen Brown personal foul                                |\n",
    "| Bucks   | 1 | 11:26 | 0-0 | Thon Maker misses 26-foot three point jumper              |\n",
    "| Celtics | 1 | 11:22 | 0-0 | Jaylen Brown defensive rebound                            |\n",
    "| Celtics | 1 | 11:16 | 0-0 | Al Horford bad pass (Khris Middleton steals)              |\n",
    "| Bucks   | 1 | 11:10 | 2-0 | Khris Middleton makes layup (Malcolm Brogdon assists)     |\n",
    "| Celtics | 1 | 10:53 | 2-0 | Kyrie Irving misses 17-foot pullup jump shot              |\n",
    "| Bucks   | 1 | 10:50 | 2-0 | Giannis Antetokounmpo defensive rebound                   |"
   ]
  },
  {
   "cell_type": "markdown",
   "metadata": {
    "slideshow": {
     "slide_type": "subslide"
    }
   },
   "source": [
    "And finally, this!\n",
    "\n",
    "```turtle\n",
    "@prefix rdf: <http://www.w3.org/1999/02/22-rdf-syntax-ns#> .\n",
    "@prefix rdfs: <http://www.w3.org/2000/01/rdf-schema#> .\n",
    "@prefix xsd: <http://www.w3.org/2001/XMLSchema#> .\n",
    "@prefix pbprdf: <http://stellman-greene.com/pbprdf#> .\n",
    "\n",
    "<http://stellman-greene.com/pbprdf/games/2017-12-02_Pelicans_at_Trail_Blazers> a pbprdf:Game ;\n",
    "\tpbprdf:gameLocation \"Moda Center\" ;\n",
    "\trdfs:label \"NBA game: Pelicans (123) at Trail Blazers (116) on 2017-12-02 - 447 events\" ;\n",
    "\tpbprdf:gameTime \"2017-12-02T22:00:00.000-05:00\"^^xsd:dateTime .\n",
    "\n",
    "<http://stellman-greene.com/pbprdf/games/2017-12-02_Pelicans_at_Trail_Blazers/1> a pbprdf:JumpBall ;\n",
    "\tpbprdf:jumpBallHomePlayer <http://stellman-greene.com/pbprdf/players/Jusuf_Nurkic> ;\n",
    "\tpbprdf:jumpBallAwayPlayer <http://stellman-greene.com/pbprdf/players/DeMarcus_Cousins> ;\n",
    "\tpbprdf:jumpBallGainedPossession <http://stellman-greene.com/pbprdf/players/Damian_Lillard> ;\n",
    "\ta pbprdf:Play ;\n",
    "\tpbprdf:forTeam <http://stellman-greene.com/pbprdf/teams/Trail_Blazers> ;\n",
    "\tpbprdf:period \"1\"^^xsd:int ;\n",
    "\ta pbprdf:Event ;\n",
    "\trdfs:label \"Trail Blazers: DeMarcus Cousins vs. Jusuf Nurkic (Damian Lillard gains possession)\" ;\n",
    "\tpbprdf:time \"12:00\" ;\n",
    "\tpbprdf:inGame <http://stellman-greene.com/pbprdf/games/2017-12-02_Pelicans_at_Trail_Blazers> ;\n",
    "\tpbprdf:secondsIntoGame \"0\"^^xsd:int ;\n",
    "\tpbprdf:secondsLeftInPeriod \"720\"^^xsd:int ;\n",
    "\tpbprdf:awayScore \"0\"^^xsd:int ;\n",
    "\tpbprdf:homeScore \"0\"^^xsd:int . \n",
    "```"
   ]
  },
  {
   "cell_type": "markdown",
   "metadata": {
    "slideshow": {
     "slide_type": "slide"
    }
   },
   "source": [
    "## Why should I use PBPRDF?"
   ]
  },
  {
   "cell_type": "markdown",
   "metadata": {
    "slideshow": {
     "slide_type": "fragment"
    }
   },
   "source": [
    "* **Data availability**\n",
    "    * Aka: _You don't really have a choice!_\n",
    "\n",
    "<img src='imgs/nodata.png' alt='https://i.imgur.com/kZ6Iccv.png' />"
   ]
  },
  {
   "cell_type": "markdown",
   "metadata": {
    "slideshow": {
     "slide_type": "slide"
    }
   },
   "source": [
    "## _How_ do I use PBPRDF?"
   ]
  },
  {
   "cell_type": "markdown",
   "metadata": {
    "slideshow": {
     "slide_type": "fragment"
    }
   },
   "source": [
    "1. Download the latest release\n",
    "    * [https://github.com/andrewstellman/pbprdf/releases](https://github.com/andrewstellman/pbprdf/releases)\n",
    "2. Run `./fetch-(w)nba-play-by-plays.sh`\n",
    "    * 2b: Wait a really long time\n",
    "3. Run `mv data/retrieved_*/wnba-2018-playoffs && ./pbprdf wnba-2018-playoffs/ wnba-2018-playoffs.ttl`.\n",
    "    * 3b: Wait again\n",
    "4. Try to set up Eclipse RDF4J and Apache Tomcat for 2 hours\n",
    "5. Fail, give up\n",
    "6. Just use Jena \n",
    "    * [Fuseki Quickstart](https://jena.apache.org/documentation/fuseki2/fuseki-quick-start.html)\n",
    "7. Do _not_ try to load the dataset into memory\n",
    "    * This will hurt\n",
    "8. Enjoy your data!"
   ]
  },
  {
   "cell_type": "markdown",
   "metadata": {
    "slideshow": {
     "slide_type": "slide"
    }
   },
   "source": [
    "## Example Use-Cases\n",
    "\n",
    "From the author:"
   ]
  },
  {
   "cell_type": "markdown",
   "metadata": {
    "slideshow": {
     "slide_type": "fragment"
    }
   },
   "source": [
    "### Clutch Shots\n",
    "\n",
    "```sparql\n",
    "SELECT ?playerName ?shotsTaken ?shotsMade ?shotPercentage\n",
    "WHERE \n",
    "{ \n",
    "  ?player a pbprdf:Player .\n",
    "  ?player rdfs:label ?playerName .\n",
    "  \n",
    "  # Find the number of shots taken\n",
    "  {\n",
    "    SELECT ?player (COUNT(?shot) AS ?shotsTaken)\n",
    "    WHERE \n",
    "    {\n",
    "      ?shot a pbprdf:Shot .\n",
    "      ?shot pbprdf:shotBy ?player .\n",
    "      ?shot pbprdf:secondsLeftInPeriod ?secondsLeftInPeriod .\n",
    "      FILTER (?secondsLeftInPeriod < 5)\n",
    "    }\n",
    "    GROUP BY ?player \n",
    "  }\n",
    "\n",
    "  # Find the number of shots made\n",
    "  {\n",
    "    SELECT ?player (COUNT(?shot) AS ?shotsMade)\n",
    "    WHERE \n",
    "    {\n",
    "      ?shot a pbprdf:Shot .\n",
    "      ?shot pbprdf:shotBy ?player .\n",
    "      ?shot pbprdf:shotMade \"true\"^^xsd:boolean .\n",
    "      ?shot pbprdf:secondsLeftInPeriod ?secondsLeftInPeriod .\n",
    "      FILTER (?secondsLeftInPeriod < 5)\n",
    "    }\n",
    "    GROUP BY ?player \n",
    "  }\n",
    "  \n",
    "  # Calculate the shot percentage\n",
    "  BIND ( (round((?shotsMade / ?shotsTaken) * 10000)) / 100 AS ?shotPercentage ) .\n",
    "  \n",
    "  # Only match players who took more than 10 shots just before the end of the period\n",
    "  FILTER (?shotsTaken >= 15) .\n",
    "}\n",
    "ORDER BY DESC(?shotPercentage)\n",
    "```"
   ]
  },
  {
   "cell_type": "markdown",
   "metadata": {
    "slideshow": {
     "slide_type": "subslide"
    }
   },
   "source": [
    "<img src='imgs/clutch.png' alt='https://i.imgur.com/ARCCIhR.png'/>"
   ]
  },
  {
   "cell_type": "markdown",
   "metadata": {
    "slideshow": {
     "slide_type": "subslide"
    }
   },
   "source": [
    "### 3-Pointers Following Opponent Attempts\n",
    "\n",
    "From the author: [gist](https://gist.github.com/andrewstellman/4872dbb9dc7593e56abddbe8b998b509)\n",
    "\n",
    "(query waaaaaaaaay too long to show)\n",
    "\n",
    "| PlayerName           | ThreePointShotPercentage | ShotPercentageAfterMiss | ShotPercentageAfterMake |\n",
    "|----------------------|--------------------------|-------------------------|-------------------------|\n",
    "| \"Karl-Anthony Towns\" | 41.99                    | 45.16                   | 62.50                   |\n",
    "| \"Aaron Gordon\"       | 33.86                    | 33.33                   | 56.67                   |\n",
    "| \"Kevin Durant\"       | 42.07                    | 42.00                   | 54.29                   |\n",
    "| \"Anthony Tolliver\"   | 44.66                    | 39.58                   | 51.28                   |\n",
    "| \"Tobias Harris\"      | 41.57                    | 43.64                   | 51.11                   |\n",
    "| \"Paul George\"        | 39.64                    | 47.27                   | 50.79                   |\n",
    "| \"CJ McCollum\"        | 39.76                    | 46.88                   | 50.00                   |\n",
    "| \"Nikola Jokic\"       | 38.75                    | 22.22                   | 50.00                   |\n",
    "| \"Robert Covington\"   | 36.99                    | 33.33                   | 50.00                   |\n",
    "| \"Allen Crabbe\"       | 38.27                    | 36.36                   | 48.39                   |\n",
    "| |\n",
    "| **AVERAGE**              | **37.28**                    | **37.29**                   | **36.95**                   |\n",
    "| **STDEV**                | **3.42**                     | **7.74**                    | **8.70**                    |"
   ]
  },
  {
   "cell_type": "markdown",
   "metadata": {
    "slideshow": {
     "slide_type": "slide"
    }
   },
   "source": [
    "## My Use-Case"
   ]
  },
  {
   "cell_type": "markdown",
   "metadata": {
    "slideshow": {
     "slide_type": "subslide"
    }
   },
   "source": [
    "### Win Expectancy\n",
    "\n",
    "* Several SQL scripts\n",
    "* Hundreds of lines of awful\n",
    "* Would frequently crash my laptop\n",
    "\n",
    "```sql\n",
    "CREATE TABLE WinEx AS \n",
    "SELECT p.inning_side AS side,\n",
    "       p.inning AS inn,\n",
    "       substr(count,1,1) AS b,\n",
    "       substr(count,3,4) AS s,\n",
    "       atbat.o AS out,\n",
    "       p.Occupied1b AS state_1b,\n",
    "       p.Occupied2b AS state_2b,\n",
    "       p.Occupied3b AS state_3b,\n",
    "       (CAST(atbat.home_team_runs AS INT) - CAST(atbat.away_team_runs AS INT)) AS rd,\n",
    "       (CAST(SUM(game.homeW) AS float)/ CAST(COUNT( * ) AS float)) AS w_Pct,\n",
    "       atbat.off_rem_outs_h AS off_r_outs,\n",
    "       atbat.def_rem_outs_h AS def_r_outs,\n",
    "       count( * ) AS n\n",
    "  FROM pitch AS p\n",
    "       INNER JOIN\n",
    "       atbat ON (p.gameday_link = atbat.gameday_link AND \n",
    "                 p.num = atbat.num) \n",
    "       INNER JOIN\n",
    "       game ON atbat.gameday_link = game.gameday_link\n",
    " GROUP BY side,\n",
    "          inn,\n",
    "          count,\n",
    "          out,\n",
    "          Occupied1b,\n",
    "          Occupied2b,\n",
    "          Occupied3b,\n",
    "          rd\n",
    " ORDER BY inn ASC,\n",
    "          side DESC,\n",
    "          rd ASC;\n",
    "```\n",
    "\n",
    "_(yikes)_"
   ]
  },
  {
   "cell_type": "markdown",
   "metadata": {
    "slideshow": {
     "slide_type": "subslide"
    }
   },
   "source": [
    "**OR, INSTEAD:**\n",
    "\n",
    "```sparql\n",
    "PREFIX rdf: <http://www.w3.org/1999/02/22-rdf-syntax-ns#>\n",
    "PREFIX pbprdf: <http://stellman-greene.com/pbprdf#>\n",
    "PREFIX xsd: <http://www.w3.org/2001/XMLSchema#>\n",
    "prefix owl: <http://www.w3.org/2002/07/owl#>\n",
    "prefix rdfs: <http://www.w3.org/2000/01/rdf-schema#>\n",
    "\n",
    "SELECT DISTINCT (xsd:integer(?sec)/60 AS ?min) ?pd (SUM(?homeW) / COUNT(?homeW) AS ?wp) (COUNT(?sec) AS ?n)\n",
    "WHERE {\n",
    "  \t?game rdf:type pbprdf:Play .\n",
    "\t?game pbprdf:secondsIntoGame ?sec .\n",
    "  \t?game pbprdf:awayScore ?away .\n",
    "  \t?game pbprdf:homeScore ?home .\n",
    "  \t\n",
    "  \t?game pbprdf:inGame ?g .\n",
    "  \t?final pbprdf:inGame ?g .\n",
    "  \t?final rdf:type pbprdf:EndOfGame .\n",
    "  \t\n",
    "  \t?final pbprdf:awayScore ?awayF .\n",
    "  \t?final pbprdf:homeScore ?homeF .\n",
    "  \n",
    "  \tBIND(?home - ?away AS ?pd)\n",
    "  \tBIND(xsd:integer(?homeF > ?awayF) AS ?homeW)\n",
    "}\n",
    "GROUP BY ?sec ?pd\n",
    "ORDER BY DESC(?n)\n",
    "```\n",
    "\n",
    "**These two queries produce the same result.**"
   ]
  },
  {
   "cell_type": "code",
   "execution_count": 1,
   "metadata": {
    "slideshow": {
     "slide_type": "subslide"
    }
   },
   "outputs": [
    {
     "data": {
      "text/html": [
       "<style  type=\"text/css\" >\n",
       "    #T_92ea4edc_2a1f_11e9_a3e8_17efdc9edbe6row0_col2 {\n",
       "            width:  10em;\n",
       "             height:  80%;\n",
       "            background:  linear-gradient(90deg,#5fba7d 46.2%, transparent 0%);\n",
       "        }    #T_92ea4edc_2a1f_11e9_a3e8_17efdc9edbe6row0_col3 {\n",
       "            width:  10em;\n",
       "             height:  80%;\n",
       "            background:  linear-gradient(90deg,#5fba7d 59.5%, transparent 0%);\n",
       "        }    #T_92ea4edc_2a1f_11e9_a3e8_17efdc9edbe6row1_col2 {\n",
       "            width:  10em;\n",
       "             height:  80%;\n",
       "            background:  linear-gradient(90deg,#5fba7d 69.2%, transparent 0%);\n",
       "        }    #T_92ea4edc_2a1f_11e9_a3e8_17efdc9edbe6row1_col3 {\n",
       "            width:  10em;\n",
       "             height:  80%;\n",
       "            background:  linear-gradient(90deg,#5fba7d 97.6%, transparent 0%);\n",
       "        }    #T_92ea4edc_2a1f_11e9_a3e8_17efdc9edbe6row2_col2 {\n",
       "            width:  10em;\n",
       "             height:  80%;\n",
       "            background:  linear-gradient(90deg,#5fba7d 46.2%, transparent 0%);\n",
       "        }    #T_92ea4edc_2a1f_11e9_a3e8_17efdc9edbe6row2_col3 {\n",
       "            width:  10em;\n",
       "             height:  80%;\n",
       "            background:  linear-gradient(90deg,#5fba7d 52.4%, transparent 0%);\n",
       "        }    #T_92ea4edc_2a1f_11e9_a3e8_17efdc9edbe6row3_col2 {\n",
       "            width:  10em;\n",
       "             height:  80%;\n",
       "            background:  linear-gradient(90deg,#d65f5f 23.1%, transparent 0%);\n",
       "        }    #T_92ea4edc_2a1f_11e9_a3e8_17efdc9edbe6row3_col3 {\n",
       "            width:  10em;\n",
       "             height:  80%;\n",
       "        }    #T_92ea4edc_2a1f_11e9_a3e8_17efdc9edbe6row4_col2 {\n",
       "            width:  10em;\n",
       "             height:  80%;\n",
       "            background:  linear-gradient(90deg,#5fba7d 84.6%, transparent 0%);\n",
       "        }    #T_92ea4edc_2a1f_11e9_a3e8_17efdc9edbe6row4_col3 {\n",
       "            width:  10em;\n",
       "             height:  80%;\n",
       "            background:  linear-gradient(90deg,#5fba7d 100.0%, transparent 0%);\n",
       "        }    #T_92ea4edc_2a1f_11e9_a3e8_17efdc9edbe6row5_col2 {\n",
       "            width:  10em;\n",
       "             height:  80%;\n",
       "            background:  linear-gradient(90deg,#d65f5f 38.5%, transparent 0%);\n",
       "        }    #T_92ea4edc_2a1f_11e9_a3e8_17efdc9edbe6row5_col3 {\n",
       "            width:  10em;\n",
       "             height:  80%;\n",
       "            background:  linear-gradient(90deg,#5fba7d 88.1%, transparent 0%);\n",
       "        }    #T_92ea4edc_2a1f_11e9_a3e8_17efdc9edbe6row6_col2 {\n",
       "            width:  10em;\n",
       "             height:  80%;\n",
       "            background:  linear-gradient(90deg,#d65f5f 38.5%, transparent 0%);\n",
       "        }    #T_92ea4edc_2a1f_11e9_a3e8_17efdc9edbe6row6_col3 {\n",
       "            width:  10em;\n",
       "             height:  80%;\n",
       "            background:  linear-gradient(90deg,#5fba7d 26.2%, transparent 0%);\n",
       "        }    #T_92ea4edc_2a1f_11e9_a3e8_17efdc9edbe6row7_col2 {\n",
       "            width:  10em;\n",
       "             height:  80%;\n",
       "            background:  linear-gradient(90deg,#5fba7d 100.0%, transparent 0%);\n",
       "        }    #T_92ea4edc_2a1f_11e9_a3e8_17efdc9edbe6row7_col3 {\n",
       "            width:  10em;\n",
       "             height:  80%;\n",
       "            background:  linear-gradient(90deg,#5fba7d 76.2%, transparent 0%);\n",
       "        }    #T_92ea4edc_2a1f_11e9_a3e8_17efdc9edbe6row8_col2 {\n",
       "            width:  10em;\n",
       "             height:  80%;\n",
       "            background:  linear-gradient(90deg,#5fba7d 61.5%, transparent 0%);\n",
       "        }    #T_92ea4edc_2a1f_11e9_a3e8_17efdc9edbe6row8_col3 {\n",
       "            width:  10em;\n",
       "             height:  80%;\n",
       "            background:  linear-gradient(90deg,#5fba7d 54.8%, transparent 0%);\n",
       "        }    #T_92ea4edc_2a1f_11e9_a3e8_17efdc9edbe6row9_col2 {\n",
       "            width:  10em;\n",
       "             height:  80%;\n",
       "        }    #T_92ea4edc_2a1f_11e9_a3e8_17efdc9edbe6row9_col3 {\n",
       "            width:  10em;\n",
       "             height:  80%;\n",
       "        }</style>  \n",
       "<table id=\"T_92ea4edc_2a1f_11e9_a3e8_17efdc9edbe6\" > \n",
       "<thead>    <tr> \n",
       "        <th class=\"blank level0\" ></th> \n",
       "        <th class=\"col_heading level0 col0\" >seconds </th> \n",
       "        <th class=\"col_heading level0 col1\" >min </th> \n",
       "        <th class=\"col_heading level0 col2\" >pd </th> \n",
       "        <th class=\"col_heading level0 col3\" >wp </th> \n",
       "        <th class=\"col_heading level0 col4\" >n </th> \n",
       "    </tr></thead> \n",
       "<tbody>    <tr> \n",
       "        <th id=\"T_92ea4edc_2a1f_11e9_a3e8_17efdc9edbe6level0_row0\" class=\"row_heading level0 row0\" >0</th> \n",
       "        <td id=\"T_92ea4edc_2a1f_11e9_a3e8_17efdc9edbe6row0_col0\" class=\"data row0 col0\" >0</td> \n",
       "        <td id=\"T_92ea4edc_2a1f_11e9_a3e8_17efdc9edbe6row0_col1\" class=\"data row0 col1\" >0</td> \n",
       "        <td id=\"T_92ea4edc_2a1f_11e9_a3e8_17efdc9edbe6row0_col2\" class=\"data row0 col2\" >0</td> \n",
       "        <td id=\"T_92ea4edc_2a1f_11e9_a3e8_17efdc9edbe6row0_col3\" class=\"data row0 col3\" >0.58</td> \n",
       "        <td id=\"T_92ea4edc_2a1f_11e9_a3e8_17efdc9edbe6row0_col4\" class=\"data row0 col4\" >465</td> \n",
       "    </tr>    <tr> \n",
       "        <th id=\"T_92ea4edc_2a1f_11e9_a3e8_17efdc9edbe6level0_row1\" class=\"row_heading level0 row1\" >1</th> \n",
       "        <td id=\"T_92ea4edc_2a1f_11e9_a3e8_17efdc9edbe6row1_col0\" class=\"data row1 col0\" >720</td> \n",
       "        <td id=\"T_92ea4edc_2a1f_11e9_a3e8_17efdc9edbe6row1_col1\" class=\"data row1 col1\" >12</td> \n",
       "        <td id=\"T_92ea4edc_2a1f_11e9_a3e8_17efdc9edbe6row1_col2\" class=\"data row1 col2\" >3</td> \n",
       "        <td id=\"T_92ea4edc_2a1f_11e9_a3e8_17efdc9edbe6row1_col3\" class=\"data row1 col3\" >0.74</td> \n",
       "        <td id=\"T_92ea4edc_2a1f_11e9_a3e8_17efdc9edbe6row1_col4\" class=\"data row1 col4\" >151</td> \n",
       "    </tr>    <tr> \n",
       "        <th id=\"T_92ea4edc_2a1f_11e9_a3e8_17efdc9edbe6level0_row2\" class=\"row_heading level0 row2\" >2</th> \n",
       "        <td id=\"T_92ea4edc_2a1f_11e9_a3e8_17efdc9edbe6row2_col0\" class=\"data row2 col0\" >1440</td> \n",
       "        <td id=\"T_92ea4edc_2a1f_11e9_a3e8_17efdc9edbe6row2_col1\" class=\"data row2 col1\" >24</td> \n",
       "        <td id=\"T_92ea4edc_2a1f_11e9_a3e8_17efdc9edbe6row2_col2\" class=\"data row2 col2\" >0</td> \n",
       "        <td id=\"T_92ea4edc_2a1f_11e9_a3e8_17efdc9edbe6row2_col3\" class=\"data row2 col3\" >0.55</td> \n",
       "        <td id=\"T_92ea4edc_2a1f_11e9_a3e8_17efdc9edbe6row2_col4\" class=\"data row2 col4\" >142</td> \n",
       "    </tr>    <tr> \n",
       "        <th id=\"T_92ea4edc_2a1f_11e9_a3e8_17efdc9edbe6level0_row3\" class=\"row_heading level0 row3\" >3</th> \n",
       "        <td id=\"T_92ea4edc_2a1f_11e9_a3e8_17efdc9edbe6row3_col0\" class=\"data row3 col0\" >720</td> \n",
       "        <td id=\"T_92ea4edc_2a1f_11e9_a3e8_17efdc9edbe6row3_col1\" class=\"data row3 col1\" >12</td> \n",
       "        <td id=\"T_92ea4edc_2a1f_11e9_a3e8_17efdc9edbe6row3_col2\" class=\"data row3 col2\" >-3</td> \n",
       "        <td id=\"T_92ea4edc_2a1f_11e9_a3e8_17efdc9edbe6row3_col3\" class=\"data row3 col3\" >0.33</td> \n",
       "        <td id=\"T_92ea4edc_2a1f_11e9_a3e8_17efdc9edbe6row3_col4\" class=\"data row3 col4\" >128</td> \n",
       "    </tr>    <tr> \n",
       "        <th id=\"T_92ea4edc_2a1f_11e9_a3e8_17efdc9edbe6level0_row4\" class=\"row_heading level0 row4\" >4</th> \n",
       "        <td id=\"T_92ea4edc_2a1f_11e9_a3e8_17efdc9edbe6row4_col0\" class=\"data row4 col0\" >1440</td> \n",
       "        <td id=\"T_92ea4edc_2a1f_11e9_a3e8_17efdc9edbe6row4_col1\" class=\"data row4 col1\" >24</td> \n",
       "        <td id=\"T_92ea4edc_2a1f_11e9_a3e8_17efdc9edbe6row4_col2\" class=\"data row4 col2\" >5</td> \n",
       "        <td id=\"T_92ea4edc_2a1f_11e9_a3e8_17efdc9edbe6row4_col3\" class=\"data row4 col3\" >0.75</td> \n",
       "        <td id=\"T_92ea4edc_2a1f_11e9_a3e8_17efdc9edbe6row4_col4\" class=\"data row4 col4\" >115</td> \n",
       "    </tr>    <tr> \n",
       "        <th id=\"T_92ea4edc_2a1f_11e9_a3e8_17efdc9edbe6level0_row5\" class=\"row_heading level0 row5\" >5</th> \n",
       "        <td id=\"T_92ea4edc_2a1f_11e9_a3e8_17efdc9edbe6row5_col0\" class=\"data row5 col0\" >720</td> \n",
       "        <td id=\"T_92ea4edc_2a1f_11e9_a3e8_17efdc9edbe6row5_col1\" class=\"data row5 col1\" >12</td> \n",
       "        <td id=\"T_92ea4edc_2a1f_11e9_a3e8_17efdc9edbe6row5_col2\" class=\"data row5 col2\" >-1</td> \n",
       "        <td id=\"T_92ea4edc_2a1f_11e9_a3e8_17efdc9edbe6row5_col3\" class=\"data row5 col3\" >0.7</td> \n",
       "        <td id=\"T_92ea4edc_2a1f_11e9_a3e8_17efdc9edbe6row5_col4\" class=\"data row5 col4\" >114</td> \n",
       "    </tr>    <tr> \n",
       "        <th id=\"T_92ea4edc_2a1f_11e9_a3e8_17efdc9edbe6level0_row6\" class=\"row_heading level0 row6\" >6</th> \n",
       "        <td id=\"T_92ea4edc_2a1f_11e9_a3e8_17efdc9edbe6row6_col0\" class=\"data row6 col0\" >1440</td> \n",
       "        <td id=\"T_92ea4edc_2a1f_11e9_a3e8_17efdc9edbe6row6_col1\" class=\"data row6 col1\" >24</td> \n",
       "        <td id=\"T_92ea4edc_2a1f_11e9_a3e8_17efdc9edbe6row6_col2\" class=\"data row6 col2\" >-1</td> \n",
       "        <td id=\"T_92ea4edc_2a1f_11e9_a3e8_17efdc9edbe6row6_col3\" class=\"data row6 col3\" >0.44</td> \n",
       "        <td id=\"T_92ea4edc_2a1f_11e9_a3e8_17efdc9edbe6row6_col4\" class=\"data row6 col4\" >111</td> \n",
       "    </tr>    <tr> \n",
       "        <th id=\"T_92ea4edc_2a1f_11e9_a3e8_17efdc9edbe6level0_row7\" class=\"row_heading level0 row7\" >7</th> \n",
       "        <td id=\"T_92ea4edc_2a1f_11e9_a3e8_17efdc9edbe6row7_col0\" class=\"data row7 col0\" >720</td> \n",
       "        <td id=\"T_92ea4edc_2a1f_11e9_a3e8_17efdc9edbe6row7_col1\" class=\"data row7 col1\" >12</td> \n",
       "        <td id=\"T_92ea4edc_2a1f_11e9_a3e8_17efdc9edbe6row7_col2\" class=\"data row7 col2\" >7</td> \n",
       "        <td id=\"T_92ea4edc_2a1f_11e9_a3e8_17efdc9edbe6row7_col3\" class=\"data row7 col3\" >0.65</td> \n",
       "        <td id=\"T_92ea4edc_2a1f_11e9_a3e8_17efdc9edbe6row7_col4\" class=\"data row7 col4\" >110</td> \n",
       "    </tr>    <tr> \n",
       "        <th id=\"T_92ea4edc_2a1f_11e9_a3e8_17efdc9edbe6level0_row8\" class=\"row_heading level0 row8\" >8</th> \n",
       "        <td id=\"T_92ea4edc_2a1f_11e9_a3e8_17efdc9edbe6row8_col0\" class=\"data row8 col0\" >720</td> \n",
       "        <td id=\"T_92ea4edc_2a1f_11e9_a3e8_17efdc9edbe6row8_col1\" class=\"data row8 col1\" >12</td> \n",
       "        <td id=\"T_92ea4edc_2a1f_11e9_a3e8_17efdc9edbe6row8_col2\" class=\"data row8 col2\" >2</td> \n",
       "        <td id=\"T_92ea4edc_2a1f_11e9_a3e8_17efdc9edbe6row8_col3\" class=\"data row8 col3\" >0.56</td> \n",
       "        <td id=\"T_92ea4edc_2a1f_11e9_a3e8_17efdc9edbe6row8_col4\" class=\"data row8 col4\" >106</td> \n",
       "    </tr>    <tr> \n",
       "        <th id=\"T_92ea4edc_2a1f_11e9_a3e8_17efdc9edbe6level0_row9\" class=\"row_heading level0 row9\" >9</th> \n",
       "        <td id=\"T_92ea4edc_2a1f_11e9_a3e8_17efdc9edbe6row9_col0\" class=\"data row9 col0\" >720</td> \n",
       "        <td id=\"T_92ea4edc_2a1f_11e9_a3e8_17efdc9edbe6row9_col1\" class=\"data row9 col1\" >12</td> \n",
       "        <td id=\"T_92ea4edc_2a1f_11e9_a3e8_17efdc9edbe6row9_col2\" class=\"data row9 col2\" >-6</td> \n",
       "        <td id=\"T_92ea4edc_2a1f_11e9_a3e8_17efdc9edbe6row9_col3\" class=\"data row9 col3\" >0.33</td> \n",
       "        <td id=\"T_92ea4edc_2a1f_11e9_a3e8_17efdc9edbe6row9_col4\" class=\"data row9 col4\" >100</td> \n",
       "    </tr></tbody> \n",
       "</table> "
      ],
      "text/plain": [
       "<pandas.io.formats.style.Styler at 0x7f95d813e9b0>"
      ]
     },
     "execution_count": 1,
     "metadata": {},
     "output_type": "execute_result"
    }
   ],
   "source": [
    "import pandas as pd\n",
    "\n",
    "pd.read_csv(\"winex.csv\").style.bar(subset=['pd ', 'wp '], color=['#d65f5f', '#5fba7d'])"
   ]
  },
  {
   "cell_type": "markdown",
   "metadata": {
    "slideshow": {
     "slide_type": "slide"
    }
   },
   "source": [
    "## Future Applications - Linked Data\n",
    "\n",
    "* Question-answering over linked data?"
   ]
  },
  {
   "cell_type": "markdown",
   "metadata": {
    "slideshow": {
     "slide_type": "slide"
    }
   },
   "source": [
    "### Statmuse \n",
    "\n",
    "* Question answering? <span>&#9745;</span>\n",
    "    * [Statemuse](https://www.statmuse.com/) \n",
    "* Linked data? ... <span>&#9746;</span>\n",
    "        "
   ]
  },
  {
   "cell_type": "markdown",
   "metadata": {
    "slideshow": {
     "slide_type": "subslide"
    }
   },
   "source": [
    "**The good**\n",
    "\n",
    "<img src='imgs/muse1.png' alt='https://i.imgur.com/nSYIayR.png' />"
   ]
  },
  {
   "cell_type": "markdown",
   "metadata": {
    "slideshow": {
     "slide_type": "subslide"
    }
   },
   "source": [
    "**The bad**\n",
    "<img src='imgs/muse2.png' alt='https://i.imgur.com/ODsmQFM.png' />"
   ]
  },
  {
   "cell_type": "markdown",
   "metadata": {
    "slideshow": {
     "slide_type": "subslide"
    }
   },
   "source": [
    "**The ugly**\n",
    "\n",
    "_(This was: \"Most points scored by NBA player who went to Duke\")_\n",
    "<img src='imgs/muse3.png' alt='https://i.imgur.com/YYqzTys.png' />"
   ]
  },
  {
   "cell_type": "markdown",
   "metadata": {
    "slideshow": {
     "slide_type": "slide"
    }
   },
   "source": [
    "### Metadata from dbPedia\n",
    "\n",
    "#### Goals\n",
    "\n",
    "* Fun trivia \n",
    "    * Which colleges produce the most clutch players?\n",
    "    * Which countries produce the ...\n",
    "        * Tallest players?\n",
    "        * Best shooters?\n",
    "        * Best passers?\n",
    "* Interesting analysis\n",
    "    * Are Kobe Bryant and Mark Cuban right about AAU/youth basketball?\n",
    "    * Open-sourcing [RPM](https://www.nbastuffer.com/analytics101/real-plus-minus-rpm/)\n",
    "    * **Comparing draft position to player value**\n",
    "        * Somebody should do this!\n",
    "        * I'm just like really busy right now"
   ]
  },
  {
   "cell_type": "markdown",
   "metadata": {
    "slideshow": {
     "slide_type": "subslide"
    }
   },
   "source": [
    "#### Reality\n",
    "\n",
    "Thanks, dbPedia!\n",
    "\n",
    "<img src='imgs/dbperr.png' alt='https://i.imgur.com/iO3x6Rw.png'/>"
   ]
  },
  {
   "cell_type": "markdown",
   "metadata": {
    "slideshow": {
     "slide_type": "slide"
    }
   },
   "source": [
    "## Conclusion\n",
    "\n",
    "<img src='imgs/meme.png' alt='https://i.imgur.com/mhwJA1m.png' />"
   ]
  }
 ],
 "metadata": {
  "celltoolbar": "Slideshow",
  "kernelspec": {
   "display_name": "Python 3",
   "language": "python",
   "name": "python3"
  },
  "language_info": {
   "codemirror_mode": {
    "name": "ipython",
    "version": 3
   },
   "file_extension": ".py",
   "mimetype": "text/x-python",
   "name": "python",
   "nbconvert_exporter": "python",
   "pygments_lexer": "ipython3",
   "version": "3.6.8"
  }
 },
 "nbformat": 4,
 "nbformat_minor": 2
}
